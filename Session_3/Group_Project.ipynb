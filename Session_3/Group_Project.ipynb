{
 "cells": [
  {
   "cell_type": "markdown",
   "id": "d6440183",
   "metadata": {},
   "source": [
    "### Group Prject - London Bike Rentals\n",
    "\n",
    "In this project, you will work with the London Bikes dataset, which records daily bike rentals in the city along with key variables such as dates, weather conditions, and seasonality.\n",
    "\n",
    "The goal is to apply the full data analytics workflow:\n",
    "\n",
    "- Clean and prepare the dataset.\n",
    "\n",
    "- Explore the data through visualisation.\n",
    "\n",
    "- Construct and interpret confidence intervals.\n",
    "\n",
    "- Build a regression model to explain variation in bike rentals.\n",
    "\n",
    "- By the end, you will connect statistical concepts with practical Python analysis."
   ]
  },
  {
   "cell_type": "code",
   "execution_count": 88,
   "id": "77f62329",
   "metadata": {},
   "outputs": [],
   "source": [
    "## Import libraries and data\n",
    "import pandas as pd\n",
    "import numpy as np\n",
    "import seaborn as sns\n",
    "import matplotlib.pyplot as plt\n",
    "\n",
    "london_bike = pd.read_csv(\"C:/Users/Tamás/Desktop/ESMT/FirstSem/AnalyticsThroughCoding/Analytics-through-coding-in-class/Data/london_bikes.csv\")"
   ]
  },
  {
   "cell_type": "code",
   "execution_count": null,
   "id": "e4670458",
   "metadata": {},
   "outputs": [],
   "source": [
    "london_bike.info()\n",
    "london_bike.columns\n",
    "london_bike.describe()"
   ]
  },
  {
   "cell_type": "markdown",
   "id": "e8eebb78",
   "metadata": {},
   "source": [
    "**1. Data Cleaning**\n",
    "\n",
    "Check for missing values across columns. How would you handle them?\n",
    "\n",
    "Inspect the date column and ensure it is correctly formatted as datetime. Extract useful features (year, month, day, day of week, season).\n",
    "\n",
    "Convert categorical variables (e.g., season, weather) to appropriate categories in Python.\n",
    "\n",
    "Ensure numeric columns (e.g., bikes rented, temperature) are in the right format."
   ]
  },
  {
   "cell_type": "code",
   "execution_count": null,
   "id": "2d309da5",
   "metadata": {},
   "outputs": [],
   "source": [
    "## Your code goes here\n",
    "\n",
    "# Check for the sum of the missing values in each column\n",
    "london_bike.isnull().sum()"
   ]
  },
  {
   "cell_type": "code",
   "execution_count": 91,
   "id": "03957b48",
   "metadata": {},
   "outputs": [],
   "source": [
    "# Making a copy from the original dataset\n",
    "london_bike_copy = london_bike.copy()"
   ]
  },
  {
   "cell_type": "code",
   "execution_count": 92,
   "id": "dd284822",
   "metadata": {},
   "outputs": [],
   "source": [
    "# Changing the datatime in a correct format\n",
    "london_bike_copy[\"date\"] = pd.to_datetime(london_bike_copy[\"date\"])"
   ]
  },
  {
   "cell_type": "code",
   "execution_count": 93,
   "id": "d7bbe4dd",
   "metadata": {},
   "outputs": [],
   "source": [
    "# Changing the format of the \"month\" and \"wday\" columns to integer with mapping\n",
    "months_to_int = {\n",
    "    'Jan': 1, 'Feb': 2, 'Mar': 3, 'Apr': 4, 'May': 5, 'Jun': 6, \n",
    "    'Jul': 7, 'Aug': 8, 'Sep': 9, 'Oct': 10, 'Nov': 11, 'Dec': 12\n",
    "}\n",
    "london_bike_copy.loc[:, \"month\"] = london_bike_copy[\"month\"].map(months_to_int)\n",
    "\n",
    "days_to_int = {\n",
    "    'Mon': 1, 'Tue': 2, 'Wed': 3, 'Thu': 4, 'Fri': 5, 'Sat': 6, 'Sun': 7\n",
    "}\n",
    "london_bike_copy.loc[:, \"wday\"] = london_bike_copy[\"wday\"].map(days_to_int)"
   ]
  },
  {
   "cell_type": "code",
   "execution_count": 94,
   "id": "297f74f3",
   "metadata": {},
   "outputs": [],
   "source": [
    "# Convert 'month' and 'wday' columns to integer type\n",
    "london_bike_copy[\"month\"] = london_bike_copy[\"month\"].astype(int)\n",
    "london_bike_copy[\"wday\"] = london_bike_copy[\"wday\"].astype(int)"
   ]
  },
  {
   "cell_type": "code",
   "execution_count": null,
   "id": "58c72a5c",
   "metadata": {},
   "outputs": [],
   "source": [
    "# Finding columns with missing values\n",
    "missing_columns = london_bike_copy.columns[london_bike_copy.isnull().any()]\n",
    "\n",
    "missing_values = pd.DataFrame()\n",
    "for col in missing_columns:\n",
    "     missing_values[col] = london_bike_copy[col].describe()\n",
    "\n",
    "missing_values = missing_values.T\n",
    "display(missing_values)"
   ]
  },
  {
   "cell_type": "code",
   "execution_count": null,
   "id": "a9245010",
   "metadata": {},
   "outputs": [],
   "source": [
    "# Filling the missing values in each column \n",
    "\n",
    "# CLOUD_COVER - the values are between 0 and 9, the mean is 4.91 and the standard deviation is 2.36, so most of the values are close to the mean. \n",
    "# We can fill the missing values with the mean of the column\n",
    "london_bike_copy[\"cloud_cover\"].fillna(london_bike_copy[\"cloud_cover\"].mean(), inplace=True)\n",
    "\n",
    "# HUMIDITY - here the range between the min and max value is quite bigger than the previous one as the standard deviation, but the fact that from the\n",
    "# 4934 row only 83 have missing value, we can use the mean of the columns to fill the missing values.\n",
    "london_bike_copy[\"humidity\"].fillna(london_bike_copy[\"humidity\"].mean(), inplace=True)\n",
    "\n",
    "# PRESSURE, RADIATION, MEAN_TEMP, MIN_TEMP, MAX_TEMP - the same situation like at the HUMIDITY. We can fill the missing values with the mean of the column.\n",
    "london_bike_copy[\"pressure\"].fillna(london_bike_copy[\"pressure\"].mean(), inplace = True)\n",
    "london_bike_copy[\"radiation\"].fillna(london_bike_copy[\"radiation\"].mean(), inplace = True)\n",
    "london_bike_copy[\"mean_temp\"].fillna(london_bike_copy[\"mean_temp\"].mean(), inplace = True)\n",
    "london_bike_copy[\"min_temp\"].fillna(london_bike_copy[\"min_temp\"].mean(), inplace = True)\n",
    "london_bike_copy[\"max_temp\"].fillna(london_bike_copy[\"max_temp\"].mean(), inplace = True)\n",
    "\n",
    "# PRECIPITATION, SUNSHINE - Every cell in the row, which should contain numerical data has missing value, \n",
    "# there is no option to  compare, so we have to fill these cells with the mean of the column.\n",
    "london_bike_copy[\"precipitation\"].fillna(london_bike_copy[\"precipitation\"].mean(), inplace = True)\n",
    "london_bike_copy[\"sunshine\"].fillna(london_bike_copy[\"sunshine\"].mean(), inplace = True)\n",
    "\n",
    "# SNOW_DEPTH - where the missing values are, these are no winter months, so there were no snow, we can replace the missing values with 0.\n",
    "london_bike_copy[\"snow_depth\"].fillna(0, inplace = True)"
   ]
  },
  {
   "cell_type": "markdown",
   "id": "44a915a8",
   "metadata": {},
   "source": [
    "**2. Exploratory Data Analysis (EDA)**\n",
    "\n",
    "Plot the distribution of bikes rented.\n",
    "\n",
    "Explore how rentals vary by season and month.\n",
    "\n",
    "Investigate the relationship between temperature and bikes rented.\n",
    "\n",
    "**Deliverables:**\n",
    "\n",
    "At least 3 clear visualisations with captions.\n",
    "\n",
    "A short written interpretation of key patterns (seasonality, weather effects, etc.).\n",
    "\n"
   ]
  },
  {
   "cell_type": "code",
   "execution_count": null,
   "id": "5aacf6e9",
   "metadata": {},
   "outputs": [],
   "source": [
    "## Your code goes here"
   ]
  },
  {
   "cell_type": "markdown",
   "id": "8367a791",
   "metadata": {},
   "source": [
    "**3. Construct 95% confidence intervals for the mean number of bikes rented per season.**\n",
    "\n",
    "Repeat the calculation per month.\n",
    "\n",
    "Interpret the result:\n",
    "\n",
    "What range of values do you expect the true mean to lie in?\n",
    "\n",
    "Which seasons/months have higher or lower average demand?\n",
    "\n",
    "Are there overlaps in the intervals, and what does that mean?\n",
    "\n",
    "**Deliverables:**\n",
    "\n",
    "A table or plot showing the mean and confidence intervals.\n",
    "\n",
    "A short interpretation."
   ]
  },
  {
   "cell_type": "code",
   "execution_count": null,
   "id": "732fdf58",
   "metadata": {},
   "outputs": [],
   "source": [
    "## Your code goes here"
   ]
  },
  {
   "cell_type": "markdown",
   "id": "022fa6bf",
   "metadata": {},
   "source": [
    "**Regression Analysis**\n",
    "\n",
    "What variables influence the number of bikes rented (y) and how? Build a regression model that best explains the variability in bikes rented.\n",
    "\n",
    "**Interpret:**\n",
    "\n",
    "Which predictors are significant?\n",
    "\n",
    "What do the coefficients mean (in practical terms)?\n",
    "\n",
    "How much of the variation in bike rentals is explained (R²)?\n",
    "\n",
    "**Deliverables:**\n",
    "\n",
    "Regression output table.\n",
    "\n",
    "A short discussion of which factors matter most for predicting bike rentals."
   ]
  },
  {
   "cell_type": "code",
   "execution_count": null,
   "id": "fba598cb",
   "metadata": {},
   "outputs": [],
   "source": [
    "### Your code goes here"
   ]
  },
  {
   "cell_type": "markdown",
   "id": "225d1c3b",
   "metadata": {},
   "source": [
    "## Deliverables\n",
    "A knitted HTML, one person per group to submit"
   ]
  },
  {
   "cell_type": "markdown",
   "id": "5a4efb13",
   "metadata": {},
   "source": []
  }
 ],
 "metadata": {
  "kernelspec": {
   "display_name": "Python 3",
   "language": "python",
   "name": "python3"
  },
  "language_info": {
   "codemirror_mode": {
    "name": "ipython",
    "version": 3
   },
   "file_extension": ".py",
   "mimetype": "text/x-python",
   "name": "python",
   "nbconvert_exporter": "python",
   "pygments_lexer": "ipython3",
   "version": "3.13.0"
  }
 },
 "nbformat": 4,
 "nbformat_minor": 5
}
